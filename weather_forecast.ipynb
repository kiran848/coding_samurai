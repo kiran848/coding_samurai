{
 "cells": [
  {
   "cell_type": "code",
   "execution_count": null,
   "id": "a6425e58",
   "metadata": {},
   "outputs": [
    {
     "name": "stdout",
     "output_type": "stream",
     "text": [
      "Enter city or location (or 'quit' to exit): Gurgaon\n",
      "Weather in Gurgaon:\n",
      "Temperature: 314.17K\n",
      "Choose temperature unit (Celsius / Fahrenheit): Dhaka\n",
      "Invalid unit choice. Defaulting to Celsius.\n",
      "Temperature: 41.02°C\n",
      "Humidity: 14%\n",
      "Wind Speed: 2.06 m/s\n",
      "Weather Condition: haze\n",
      "Enter city or location (or 'quit' to exit): Delhi\n",
      "Weather in Delhi:\n",
      "Temperature: 314.2K\n",
      "Choose temperature unit (Celsius / Fahrenheit): Panipat\n",
      "Invalid unit choice. Defaulting to Celsius.\n",
      "Temperature: 41.05°C\n",
      "Humidity: 14%\n",
      "Wind Speed: 2.06 m/s\n",
      "Weather Condition: haze\n",
      "Enter city or location (or 'quit' to exit): Punjab\n",
      "Weather in Punjab:\n",
      "Temperature: 314.05K\n",
      "Choose temperature unit (Celsius / Fahrenheit): Hisar\n",
      "Invalid unit choice. Defaulting to Celsius.\n",
      "Temperature: 40.90°C\n",
      "Humidity: 7%\n",
      "Wind Speed: 1.58 m/s\n",
      "Weather Condition: clear sky\n"
     ]
    }
   ],
   "source": [
    "import requests\n",
    "\n",
    "def get_weather_data(location, api_key):\n",
    "    url = f\"http://api.openweathermap.org/data/2.5/weather?q={location}&appid={api_key}\"\n",
    "    response = requests.get(url)\n",
    "    data = response.json()\n",
    "    return data\n",
    "\n",
    "def kelvin_to_celsius(temp_kelvin):\n",
    "    return temp_kelvin - 273.15\n",
    "\n",
    "def kelvin_to_fahrenheit(temp_kelvin):\n",
    "    return (temp_kelvin - 273.15) * 9/5 + 32\n",
    "\n",
    "def main():\n",
    "    api_key = \"fac4412017cd7567ddfc5825f272cb0f\"  # Replace this with your actual API key\n",
    "\n",
    "    while True:\n",
    "        location = input(\"Enter city or location (or 'quit' to exit): \")\n",
    "\n",
    "        if location.lower() == 'quit':\n",
    "            print(\"Exiting...\")\n",
    "            break\n",
    "\n",
    "        try:\n",
    "            weather_data = get_weather_data(location, api_key)\n",
    "            temperature_kelvin = weather_data['main']['temp']\n",
    "            humidity = weather_data['main']['humidity']\n",
    "            wind_speed = weather_data['wind']['speed']\n",
    "            weather_condition = weather_data['weather'][0]['description']\n",
    "\n",
    "            print(f\"Weather in {location}:\")\n",
    "            print(f\"Temperature: {temperature_kelvin}K\")\n",
    "\n",
    "            unit_choice = input(\"Choose temperature unit (Celsius / Fahrenheit): \").lower()\n",
    "            if unit_choice == 'celsius':\n",
    "                temperature = kelvin_to_celsius(temperature_kelvin)\n",
    "                unit_symbol = \"°C\"\n",
    "            elif unit_choice == 'fahrenheit':\n",
    "                temperature = kelvin_to_fahrenheit(temperature_kelvin)\n",
    "                unit_symbol = \"°F\"\n",
    "            else:\n",
    "                print(\"Invalid unit choice. Defaulting to Celsius.\")\n",
    "                temperature = kelvin_to_celsius(temperature_kelvin)\n",
    "                unit_symbol = \"°C\"\n",
    "\n",
    "            print(f\"Temperature: {temperature:.2f}{unit_symbol}\")\n",
    "            print(f\"Humidity: {humidity}%\")\n",
    "            print(f\"Wind Speed: {wind_speed} m/s\")\n",
    "            print(f\"Weather Condition: {weather_condition}\")\n",
    "        except KeyError:\n",
    "            print(\"Invalid location or API request failed.\")\n",
    "\n",
    "if __name__ == \"__main__\":\n",
    "    main()\n"
   ]
  },
  {
   "cell_type": "code",
   "execution_count": null,
   "id": "a1fe152c",
   "metadata": {},
   "outputs": [],
   "source": []
  },
  {
   "cell_type": "code",
   "execution_count": null,
   "id": "64da7f24",
   "metadata": {},
   "outputs": [],
   "source": []
  },
  {
   "cell_type": "code",
   "execution_count": null,
   "id": "d7130898",
   "metadata": {},
   "outputs": [],
   "source": []
  },
  {
   "cell_type": "code",
   "execution_count": null,
   "id": "1d2a8fcf",
   "metadata": {},
   "outputs": [],
   "source": []
  },
  {
   "cell_type": "code",
   "execution_count": null,
   "id": "1264d276",
   "metadata": {},
   "outputs": [],
   "source": []
  },
  {
   "cell_type": "code",
   "execution_count": null,
   "id": "2037af9c",
   "metadata": {},
   "outputs": [],
   "source": []
  },
  {
   "cell_type": "code",
   "execution_count": null,
   "id": "2bc07e1e",
   "metadata": {},
   "outputs": [],
   "source": []
  },
  {
   "cell_type": "code",
   "execution_count": null,
   "id": "40477f97",
   "metadata": {},
   "outputs": [],
   "source": []
  }
 ],
 "metadata": {
  "kernelspec": {
   "display_name": "Python 3 (ipykernel)",
   "language": "python",
   "name": "python3"
  },
  "language_info": {
   "codemirror_mode": {
    "name": "ipython",
    "version": 3
   },
   "file_extension": ".py",
   "mimetype": "text/x-python",
   "name": "python",
   "nbconvert_exporter": "python",
   "pygments_lexer": "ipython3",
   "version": "3.11.5"
  }
 },
 "nbformat": 4,
 "nbformat_minor": 5
}
